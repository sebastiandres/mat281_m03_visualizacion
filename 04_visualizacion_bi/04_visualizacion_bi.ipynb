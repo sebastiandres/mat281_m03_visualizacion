{
 "cells": [
  {
   "cell_type": "code",
   "execution_count": null,
   "metadata": {
    "slideshow": {
     "slide_type": "skip"
    }
   },
   "outputs": [],
   "source": [
    "# Configuracion para recargar módulos y librerías \n",
    "%reload_ext autoreload\n",
    "%autoreload 2"
   ]
  },
  {
   "cell_type": "markdown",
   "metadata": {
    "slideshow": {
     "slide_type": "slide"
    }
   },
   "source": [
    "# MAT281\n",
    "\n",
    "## Aplicaciones de la Matemática en la Ingeniería\n",
    "\n",
    "Puedes ejecutar este jupyter notebook de manera interactiva:\n",
    "[![Binder](../shared/images/jupyter_binder.png)](https://mybinder.org/v2/gh/sebastiandres/mat281_m03_visualizacion/master?filepath=04_visualizacion_bi/04_visualizacion_bi.ipynb)\n",
    "\n",
    "[![Colab](../shared/images/jupyter_colab.png)](https://colab.research.google.com/github/sebastiandres/mat281_m03_visualizacion/blob/master//04_visualizacion_bi/04_visualizacion_bi.ipynb)"
   ]
  },
  {
   "cell_type": "markdown",
   "metadata": {
    "slideshow": {
     "slide_type": "slide"
    }
   },
   "source": [
    "## ¿Qué contenido aprenderemos?\n",
    "* BI Softwares\n",
    "* Un vistazo a Power BI."
   ]
  },
  {
   "cell_type": "markdown",
   "metadata": {
    "slideshow": {
     "slide_type": "slide"
    }
   },
   "source": [
    "## BI Software\n",
    "\n",
    "Un buen software de _Business Intelligence_ (BI) debe poseer como mínimo lo siguiente:\n",
    "\n",
    "* Visualización de Datos\n",
    "* _Analytics_\n",
    "* Fuentes de Datos\n",
    "* Compartir"
   ]
  },
  {
   "cell_type": "markdown",
   "metadata": {
    "slideshow": {
     "slide_type": "slide"
    }
   },
   "source": [
    "## BI Software\n",
    "\n",
    "### Visualización de datos"
   ]
  },
  {
   "cell_type": "markdown",
   "metadata": {
    "slideshow": {
     "slide_type": "slide"
    }
   },
   "source": [
    "## BI Software\n",
    "\n",
    "### Analytics"
   ]
  },
  {
   "cell_type": "markdown",
   "metadata": {
    "slideshow": {
     "slide_type": "slide"
    }
   },
   "source": [
    "## BI Software\n",
    "\n",
    "### Fuentes de Datos "
   ]
  },
  {
   "cell_type": "markdown",
   "metadata": {
    "slideshow": {
     "slide_type": "slide"
    }
   },
   "source": [
    "## BI Software\n",
    "\n",
    "### Compartir "
   ]
  },
  {
   "cell_type": "markdown",
   "metadata": {
    "slideshow": {
     "slide_type": "slide"
    }
   },
   "source": [
    "## BI Software\n",
    "\n",
    "### Ejemplos\n",
    "\n",
    "* Tableau\n",
    "* Power BI\n",
    "* Qlikview\n",
    "* Sisense\n",
    "* Dash (Plotly)\n",
    "* etc."
   ]
  },
  {
   "cell_type": "markdown",
   "metadata": {
    "slideshow": {
     "slide_type": "slide"
    }
   },
   "source": [
    "## Power BI\n",
    "\n",
    "#### ¿Por qué Power BI y no otro?\n",
    "\n",
    "Solo por comodidad, dado que es el software que se utiliza en la empresa en la cual trabajamos actualmente. \n",
    "\n",
    "Muchas veces la decisión de la herramienta a utilizar no es tuya, adáptate. "
   ]
  },
  {
   "cell_type": "markdown",
   "metadata": {
    "slideshow": {
     "slide_type": "slide"
    }
   },
   "source": [
    "## ¿Qué es Power BI?\n",
    "\n",
    "Power BI is a business analytics service that delivers insights to enable fast, informed decisions.\n",
    "\n",
    "* Transform data into stunning visuals and share them with colleagues on any device.\n",
    "* Visually explore and analyze data—on-premises and in the cloud—all in one view.\n",
    "* Collaborate on and share customized dashboards and interactive reports.\n",
    "* Scale across your organization with built-in governance and security.\n"
   ]
  },
  {
   "cell_type": "markdown",
   "metadata": {
    "slideshow": {
     "slide_type": "slide"
    }
   },
   "source": [
    "## Power BI\n",
    "\n",
    "* Power BI Desktop\n",
    "* Power BI Service\n",
    "* Power BI Mobile\n",
    "* Power BI Embedded"
   ]
  },
  {
   "cell_type": "markdown",
   "metadata": {
    "slideshow": {
     "slide_type": "slide"
    }
   },
   "source": [
    "A continuación un veremos algunas de sus funcionalidades."
   ]
  }
 ],
 "metadata": {
  "celltoolbar": "Slideshow",
  "kernelspec": {
   "display_name": "Python 3",
   "language": "python",
   "name": "python3"
  },
  "language_info": {
   "codemirror_mode": {
    "name": "ipython",
    "version": 3
   },
   "file_extension": ".py",
   "mimetype": "text/x-python",
   "name": "python",
   "nbconvert_exporter": "python",
   "pygments_lexer": "ipython3",
   "version": "3.6.6"
  }
 },
 "nbformat": 4,
 "nbformat_minor": 1
}
